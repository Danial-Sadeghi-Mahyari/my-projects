{
 "cells": [
  {
   "cell_type": "code",
   "execution_count": null,
   "metadata": {},
   "outputs": [],
   "source": [
    "import pandas as pd\n",
    "import yfinance as yf\n",
    "from matplotlib import pyplot as plt"
   ]
  },
  {
   "cell_type": "markdown",
   "metadata": {},
   "source": [
    "We must import libraries which are needed."
   ]
  },
  {
   "cell_type": "code",
   "execution_count": null,
   "metadata": {},
   "outputs": [],
   "source": [
    "df = yf.download(\"BTC-USD\", start=\"2015-01-01\", end=\"2024-01-01\")\n",
    "# print(df)\n",
    "# print(type(df))"
   ]
  },
  {
   "cell_type": "markdown",
   "metadata": {},
   "source": [
    "At first we download dataframe of Bitcoin's information during 9 years with yfinance library.\n",
    "We can print our df and df's type to see them."
   ]
  },
  {
   "cell_type": "code",
   "execution_count": null,
   "metadata": {},
   "outputs": [],
   "source": [
    "df[\"Date\"] = df.index\n",
    "# df.info()"
   ]
  },
  {
   "cell_type": "markdown",
   "metadata": {},
   "source": [
    "We assign df's indexes to Date column.\n",
    "We can also see information of our df."
   ]
  },
  {
   "cell_type": "code",
   "execution_count": null,
   "metadata": {},
   "outputs": [],
   "source": [
    "df.drop(columns=[\"Adj Close\"], inplace=True)"
   ]
  },
  {
   "cell_type": "markdown",
   "metadata": {},
   "source": [
    "We drop out Adj Close column because it is as same as Close column."
   ]
  },
  {
   "cell_type": "code",
   "execution_count": null,
   "metadata": {},
   "outputs": [],
   "source": [
    "df[\"Weekday\"] = df[\"Date\"].apply(lambda d: d.isoweekday())"
   ]
  },
  {
   "cell_type": "markdown",
   "metadata": {},
   "source": [
    "We add a new column to our df which name is Weekday and it shows us number of day in each week."
   ]
  },
  {
   "cell_type": "code",
   "execution_count": null,
   "metadata": {},
   "outputs": [],
   "source": [
    "df[\"Benefit\"] = df[\"Close\"] - df[\"Open\"]"
   ]
  },
  {
   "cell_type": "markdown",
   "metadata": {},
   "source": [
    "We add another new column to our df which name is Benefit with it's own formula -> \n",
    "(price of close - price of open)"
   ]
  },
  {
   "cell_type": "code",
   "execution_count": null,
   "metadata": {},
   "outputs": [],
   "source": [
    "df.drop(columns=[\"Date\"], inplace=True)"
   ]
  },
  {
   "cell_type": "markdown",
   "metadata": {},
   "source": [
    "We drop out Date columns because the type of that is datetime and it can't calculate in Sum function."
   ]
  },
  {
   "cell_type": "code",
   "execution_count": null,
   "metadata": {},
   "outputs": [],
   "source": [
    "benefit = df[df[\"Benefit\"] > 0]\n",
    "loss = df[df[\"Benefit\"] < 0]\n",
    "# print(type(benefit))\n",
    "# print(type(loss))"
   ]
  },
  {
   "cell_type": "markdown",
   "metadata": {},
   "source": [
    "We devide Benefit column in to 2 new dataframes. positive(benefit) and negetive(loss)."
   ]
  },
  {
   "cell_type": "code",
   "execution_count": null,
   "metadata": {},
   "outputs": [],
   "source": [
    "benefit_sum = benefit.groupby(\"Weekday\").sum()\n",
    "loss_sum = loss.groupby(\"Weekday\").sum()"
   ]
  },
  {
   "cell_type": "markdown",
   "metadata": {},
   "source": [
    "We group these 2 dataframes in depends on weekday and then calculate Sum of them and assign them into benefit_sum (type == df) and loss_sum (type == df).\n",
    "In this program we just consider benefit, not a loss. That's a reason why we devided our df in to 2 group -> (benefit_sum and loss_sum)."
   ]
  },
  {
   "cell_type": "code",
   "execution_count": null,
   "metadata": {},
   "outputs": [],
   "source": [
    "benefit_sum[\"Weekday\"] = benefit_sum.index"
   ]
  },
  {
   "cell_type": "markdown",
   "metadata": {},
   "source": [
    "We make Weekday column with our indexes."
   ]
  },
  {
   "cell_type": "code",
   "execution_count": null,
   "metadata": {},
   "outputs": [],
   "source": [
    "benefit_sum.index = [\"Saturday\", \"Sunday\", \"Monday\",\n",
    "                     \"Tuesday\", \"Wednesday\", \"Thursday\", \"Friday\"]"
   ]
  },
  {
   "cell_type": "markdown",
   "metadata": {},
   "source": [
    "We assign names of weekday to our indexes."
   ]
  },
  {
   "cell_type": "code",
   "execution_count": null,
   "metadata": {},
   "outputs": [],
   "source": [
    "print(benefit_sum)\n",
    "print(\"-\"*120)\n",
    "print(benefit_sum[\"Benefit\"].idxmax(), \"is a day which has the most benefit, so\",\n",
    "      benefit_sum[\"Benefit\"].idxmax(), \"is the Best day of week to have an investment\")\n",
    "print(benefit_sum[\"Benefit\"].idxmin(), \"is a day which has the least benefit, so\",\n",
    "      benefit_sum[\"Benefit\"].idxmin(), \"is the Worst day of week to have an investment\")"
   ]
  },
  {
   "cell_type": "markdown",
   "metadata": {},
   "source": [
    "We print benefit_sum df and a day which has the most and the least benefit (we don't consider loss!!!)."
   ]
  },
  {
   "cell_type": "code",
   "execution_count": null,
   "metadata": {},
   "outputs": [],
   "source": [
    "print(\"-\"*120)\n",
    "anwser = input(\"Do you want to display a Scatter of Benefit's amount in each Day of Week ??? type (yes) to show  -> \")"
   ]
  },
  {
   "cell_type": "markdown",
   "metadata": {},
   "source": [
    "Here we have a question."
   ]
  },
  {
   "cell_type": "code",
   "execution_count": null,
   "metadata": {},
   "outputs": [],
   "source": [
    "if anwser == \"yes\":\n",
    "    plt.scatter(benefit_sum.index, benefit_sum[\"Benefit\"], s=100)\n",
    "    plt.xlabel(\"Days\", color=\"blue\")\n",
    "    plt.ylabel(\"Benefit\", color=\"red\")\n",
    "    plt.title(\"Amount of Benefit in each Day of Week\")\n",
    "    plt.show()\n",
    "else:\n",
    "    pass"
   ]
  },
  {
   "cell_type": "markdown",
   "metadata": {},
   "source": [
    "If your anwser was (yes), program would show you a Scatter of Benefit's amount.\n",
    "If you typed sth except (yes), program wouldn't do anything."
   ]
  }
 ],
 "metadata": {
  "kernelspec": {
   "display_name": "Python 3",
   "language": "python",
   "name": "python3"
  },
  "language_info": {
   "codemirror_mode": {
    "name": "ipython",
    "version": 3
   },
   "file_extension": ".py",
   "mimetype": "text/x-python",
   "name": "python",
   "nbconvert_exporter": "python",
   "pygments_lexer": "ipython3",
   "version": "3.12.4"
  }
 },
 "nbformat": 4,
 "nbformat_minor": 2
}
